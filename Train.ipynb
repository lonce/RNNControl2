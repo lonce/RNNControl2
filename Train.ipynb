{
 "cells": [
  {
   "cell_type": "code",
   "execution_count": 1,
   "metadata": {},
   "outputs": [],
   "source": [
    "import numpy as np\n",
    "import math\n",
    "import time\n",
    "from datetime import datetime\n",
    "\n",
    "import torch\n",
    "import torch.nn as nn\n",
    "import torchvision.transforms as transform\n",
    "\n",
    "from torch.utils.tensorboard import SummaryWriter\n",
    "\n",
    "import matplotlib.pylab as plt\n",
    "%matplotlib inline\n",
    "\n",
    "import time\n",
    "import os\n",
    "\n",
    "from audioDataLoader.mulaw import mu_law_encode, mu_law_decode\n",
    "from audioDataLoader.audio_dataset import AudioDatasetConfig, MuLawAudioDataset2\n",
    "from torch.utils.data import DataLoader\n",
    "\n",
    "import model.gru_audio_model"
   ]
  },
  {
   "cell_type": "markdown",
   "metadata": {},
   "source": [
    "### Data Params  \n",
    "<a id=\"dataparams\"></a>\n",
    "\n",
    "These parameters are pickled to file, and serve several purposes:\n",
    "* The allow other programs to properly evaluate and visualize the trained (and also saved) models,\n",
    "* PRovide a record of the parameters that allow reproducing results. "
   ]
  },
  {
   "cell_type": "code",
   "execution_count": 2,
   "metadata": {},
   "outputs": [],
   "source": [
    "resume_checkpoint=\"./output/20250805_162729/\"\n",
    "sourcedatadir='./data/nsynth.64.76.dl_new'\n",
    "\n",
    "params = dict(\n",
    "    # Read/write directory of data & parameter files\n",
    "    #*************************************\n",
    "    sample_rate=16000,\n",
    "    runTimeStamp='{:%Y-%m-%d_%H-%M-%S}'.format(datetime.now()),\n",
    "    \n",
    "    datadir = sourcedatadir,\n",
    "    paramdir = sourcedatadir,\n",
    "\n",
    "    savemodel = True,\n",
    "    savemodel_interval = 10, #in units of epochs\n",
    "    savemodeldir = os.getcwd() + '/output', #default saving directory for models and the parameterization\n",
    "    \n",
    "    batches_per_epoch = 10, #1000,  #10000, #max number batches of steps per epoch (typically num_epochs=1)\n",
    "    batch_size = 256, #256,\n",
    "    num_epochs = 10,\n",
    "\n",
    "    # Training parameters\n",
    "    #*************************************\n",
    "    noise=.1,\n",
    "    seqLen = 256, \n",
    "    stride = 1,\n",
    "    \n",
    "    lr = 0.005,\n",
    "    props=['instID','amplitude','midiPitch'],\n",
    "    \n",
    "    # Model parameters\n",
    "    hiddenSize = 48, #100,\n",
    "    nLayers = 4,\n",
    "\n",
    ")"
   ]
  },
  {
   "cell_type": "markdown",
   "metadata": {},
   "source": [
    "### Run Params "
   ]
  },
  {
   "cell_type": "code",
   "execution_count": 3,
   "metadata": {},
   "outputs": [
    {
     "data": {
      "text/plain": [
       "{'sample_rate': 16000,\n",
       " 'runTimeStamp': '2025-08-05_16-33-01',\n",
       " 'datadir': './data/nsynth.64.76.dl_new',\n",
       " 'paramdir': './data/nsynth.64.76.dl_new',\n",
       " 'savemodel': True,\n",
       " 'savemodel_interval': 10,\n",
       " 'savemodeldir': '/home/lonce/working/RNNControl2/output',\n",
       " 'batches_per_epoch': 10,\n",
       " 'batch_size': 256,\n",
       " 'num_epochs': 10,\n",
       " 'noise': 0.1,\n",
       " 'seqLen': 256,\n",
       " 'stride': 1,\n",
       " 'lr': 0.005,\n",
       " 'props': ['instID', 'amplitude', 'midiPitch'],\n",
       " 'hiddenSize': 48,\n",
       " 'nLayers': 4}"
      ]
     },
     "execution_count": 3,
     "metadata": {},
     "output_type": "execute_result"
    }
   ],
   "source": [
    "\n",
    "sr = params['sample_rate']\n",
    "\n",
    "batches_per_epoch = params['batches_per_epoch'] #batches per eposh\n",
    "\n",
    "log_interval = 50\n",
    "visualize_interval = 100\n",
    "\n",
    "#Generation parameters\n",
    "#*************************************\n",
    "max_length = params['seqLen']*3\n",
    "\n",
    "# Cuda\n",
    "#*************************************\n",
    "device = torch.device('cuda:0' if torch.cuda.is_available() else 'cpu')\n",
    "params"
   ]
  },
  {
   "cell_type": "code",
   "execution_count": 4,
   "metadata": {},
   "outputs": [],
   "source": [
    "# Some utility functions\n",
    "#*************************************\n",
    "def time_taken(elapsed):\n",
    "    \"\"\"To format time taken in hh:mm:ss. Use with time.monotic()\"\"\"\n",
    "    m, s = divmod(elapsed, 60)\n",
    "    h, m = divmod(m, 60)\n",
    "    return \"%d:%02d:%02d\" % (h, m, s)\n",
    "\n",
    "def mydate() :\n",
    "    return (datetime.now().strftime(\"%Y-%m-%d %H:%M:%S\"))\n",
    "\n",
    "def inputcoding(samp) :\n",
    "    return mu_law_encode(np.array(samp))/255.\n",
    "\n",
    "def index2float(topi) :\n",
    "    return(mu_law_decode(topi[0][0]).cpu().numpy())\n"
   ]
  },
  {
   "cell_type": "code",
   "execution_count": 5,
   "metadata": {},
   "outputs": [
    {
     "name": "stdout",
     "output_type": "stream",
     "text": [
      "size of dataset is 10333440\n",
      "no. of batches per epoch is 10\n",
      "batchsize id  is 256\n"
     ]
    }
   ],
   "source": [
    "\n",
    "#--- model settings ----#\n",
    "model_config = model.gru_audio_model.GRUAudioConfig (\n",
    "    input_size = 1,\n",
    "    cond_size = len(params['props']),\n",
    "    hidden_size = params['hiddenSize'],\n",
    "    num_layers = params['nLayers'],\n",
    "    output_size = 256,  #mu-law quantization levels\n",
    "    dropout = 0.1\n",
    ")\n",
    "\n",
    "# ---- Training Settings ----\n",
    "data_config = AudioDatasetConfig(\n",
    "   data_dir=params['datadir'],\n",
    "   sequence_length=params['seqLen'],\n",
    "   parameter_specs={\"instID\": (1, 2), \"a\": (0,1), \"p\": (64.0, 76.0)},\n",
    "   add_noise= False if params['noise'] == 0 else True,   # Whether to add white noise\n",
    "   noise_weight = params['noise'],                           # Desired signal-to-noise ratio (dB)\n",
    "   encode=True\n",
    ")\n",
    "\n",
    "# ---- Generation Settings ----\n",
    "testdata_config = AudioDatasetConfig(\n",
    "   data_dir=params['datadir'],\n",
    "   sequence_length=params['seqLen'],\n",
    "   parameter_specs={\"instID\": (1, 2), \"a\": (0,1), \"p\": (64.0, 76.0)},\n",
    "   add_noise= False,                        # no noise for testing and priming\n",
    "   noise_weight = params['noise'],                           # Desired signal-to-noise ratio (dB)\n",
    "   encode=False\n",
    ")\n",
    "\n",
    "# === Dataset and Loader ===\n",
    "adataset = MuLawAudioDataset2(data_config)\n",
    "train_loader = DataLoader(adataset,\n",
    "                             batch_size=params['batch_size'],\n",
    "                             shuffle=True,\n",
    "                             num_workers=4,\n",
    "                             drop_last=True)\n",
    "\n",
    "testdataset = MuLawAudioDataset2(testdata_config)\n",
    "test_loader = DataLoader(testdataset,\n",
    "                            batch_size=1,\n",
    "                            shuffle=True,\n",
    "                            num_workers=4,\n",
    "                            drop_last=True)\n",
    "   \n",
    "\n",
    "print(\"size of dataset is\",len(adataset))\n",
    "print(\"no. of batches per epoch is\", params['batches_per_epoch'])\n",
    "print(\"batchsize id  is\", params['batch_size'])"
   ]
  },
  {
   "cell_type": "code",
   "execution_count": 6,
   "metadata": {},
   "outputs": [],
   "source": [
    "# ---- Create Output Folders ----\n",
    "if resume_checkpoint != None:\n",
    "    out_dir = resume_checkpoint\n",
    "else:\n",
    "    run_timestamp = datetime.now().strftime(\"%Y%m%d_%H%M%S\")\n",
    "    out_dir = os.path.join(params['savemodeldir'], run_timestamp)\n",
    "    os.makedirs(out_dir, exist_ok=True)\n",
    "\n",
    "    os.makedirs(out_dir, exist_ok=True)\n",
    "    os.makedirs(f\"{out_dir}/checkpoints\", exist_ok=True)\n",
    "    os.makedirs(f\"{out_dir}/tensorboard\", exist_ok=True)\n",
    "\n",
    "\n",
    "# ---- Save Config ----\n",
    "#machine readable\n",
    "torch.save({\n",
    "    \"model_config\": model_config,\n",
    "    \"data_config\": data_config\n",
    "}, f\"{out_dir}/config.pt\")\n",
    "\n",
    "#human readable\n",
    "with open(f\"{out_dir}/config.txt\", \"w\") as f:\n",
    "    f.write(\"model_config = \" + repr(model_config) + \"\\\\n\")\n",
    "    f.write(\"data_config = \" + repr(data_config) + \"\\\\n\")"
   ]
  },
  {
   "cell_type": "code",
   "execution_count": 7,
   "metadata": {},
   "outputs": [
    {
     "name": "stdout",
     "output_type": "stream",
     "text": [
      "size of dataset is 10333440\n",
      "no. of batches per epoch is 10\n",
      "batchsize id  is 256\n",
      "rand_sample: idx=4076709\n",
      "rand_sample: file_idx=102\n",
      "rand_sample: start_pos=22821, end_pos=23078\n",
      "torch.Size([257])\n"
     ]
    },
    {
     "data": {
      "image/png": "[encoded data removed]",
      "text/plain": [
       "<Figure size 2000x100 with 1 Axes>"
      ]
     },
     "metadata": {},
     "output_type": "display_data"
    },
    {
     "name": "stderr",
     "output_type": "stream",
     "text": [
      "/tmp/ipykernel_458230/3278478625.py:13: DeprecationWarning: __array__ implementation doesn't accept a copy keyword, so passing copy=False failed. __array__ must implement 'dtype' and 'copy' keyword arguments.\n",
      "  return mu_law_encode(np.array(samp))/255.\n"
     ]
    },
    {
     "data": {
      "image/png": "[encoded data removed]",
      "text/plain": [
       "<Figure size 2000x100 with 1 Axes>"
      ]
     },
     "metadata": {},
     "output_type": "display_data"
    },
    {
     "name": "stdout",
     "output_type": "stream",
     "text": [
      "Do it! 2025-08-05 16:33:02\n",
      "bat num 0 at time 2025-08-05 16:33:03\n",
      "x_audio_seq.shape = torch.Size([1, 256, 4])\n",
      "y_target_seq.shape = torch.Size([1, 256, 1])\n",
      "bat num 1 at time 2025-08-05 16:33:03\n",
      "x_audio_seq.shape = torch.Size([1, 256, 4])\n",
      "y_target_seq.shape = torch.Size([1, 256, 1])\n",
      "finished at 2025-08-05 16:33:03\n"
     ]
    }
   ],
   "source": [
    "# show stuff\n",
    "\n",
    "print(\"size of dataset is\",len(adataset))\n",
    "print(\"no. of batches per epoch is\", params['batches_per_epoch'])\n",
    "print(\"batchsize id  is\", params['batch_size'])\n",
    "\n",
    "samp = adataset.rand_sample()\n",
    "print(samp.shape)\n",
    "plt.figure(figsize=(20,1)) \n",
    "plt.plot(np.arange(len(samp)), samp) #just print one example from the batch\n",
    "plt.grid()\n",
    "plt.show()\n",
    "\n",
    "samp = inputcoding(samp)\n",
    "plt.figure(figsize=(20,1)) \n",
    "plt.plot(np.arange(len(samp)), samp) #just print one example from the batch\n",
    "plt.grid()\n",
    "plt.show()\n",
    "\n",
    "\n",
    "n_batches = 1\n",
    "print(\"Do it! {}\".format(mydate()))\n",
    "for bat, (x_audio_seq, y_target_seq) in enumerate(test_loader):\n",
    "    print(\"bat num {} at time {}\".format(bat, mydate()))\n",
    "    print(f\"x_audio_seq.shape = {x_audio_seq.shape}\") \n",
    "    print(f\"y_target_seq.shape = {y_target_seq.shape}\")\n",
    "    if bat >= n_batches :\n",
    "        break;\n",
    "print(\"finished at {}\".format(mydate()))\n",
    "\n",
    "# print(f\"x_audio_seq[0,:,0] seq is {x_audio_seq[0,:,0]}\")\n",
    "# print(f\"x_audio_seq[0,:,1] seq is {x_audio_seq[0,:,1]}\")\n",
    "# print(f\"x_audio_seq[0,:,2] seq is {x_audio_seq[0,:,2]}\")\n",
    "# print(f\"x_audio_seq[0,:,3] seq is {x_audio_seq[0,:,3]}\")\n",
    "# print(f\"y_target_seq[0,:] seq is {y_target_seq[0,:].squeeze(-1)}\")\n"
   ]
  },
  {
   "cell_type": "code",
   "execution_count": 8,
   "metadata": {},
   "outputs": [],
   "source": [
    " # Define the training cycle (100% teacher forcing for now)\n",
    " #*************************************\n",
    " \n",
    " def train(model,epoch):\n",
    " \n",
    " \n",
    "     model.train() #put in training mode\n",
    "     ave_loss_over_steps = 0\n",
    " \n",
    "     debug_seqs=0\n",
    " \n",
    "     for batch_num, (inp, target) in enumerate(train_loader):\n",
    " \n",
    "         if batch_num==0:\n",
    "             print(f\"train() - inp[:,:,0] - Min: {torch.min(inp[:,:,0])}, Max: {torch.max(inp[:,:,0])}, Average: {torch.mean(inp[:,:,0])}\")\n",
    " \n",
    " \n",
    "         debug_seqs=debug_seqs+len(x_audio_seq) # summing the batch length for each batch_num\n",
    " \n",
    "         inp, target = inp.to(device), target.to(device)\n",
    "         # Forward + Backward + Optimize\n",
    "         hidden = model.init_hidden(params['batch_size'])\n",
    "         optimizer.zero_grad()\n",
    "         loss = 0\n",
    " \n",
    "         #print(f\" inp[0,127,0] (B,T,p) is {inp[0,127,0]}\")\n",
    " \n",
    "         # iterate through the SEQUENCE\n",
    "         for i in range(params['seqLen']):\n",
    "             outputs, hidden = model(inp[:,i,:],hidden,params['batch_size'])  #input dim: (batch, seq, feature)\n",
    "             loss += criterion(outputs, torch.squeeze(target[:,i],1))\n",
    "             #print(f\"timestep {i} target is {torch.squeeze(target[:,i],1)}\")\n",
    " \n",
    "         loss.backward()\n",
    "         optimizer.step()\n",
    " \n",
    "         ave_loss_per_sample = loss.item()/params['seqLen']   #over each minibatch\n",
    "         ave_loss_over_steps += ave_loss_per_sample\n",
    " \n",
    "         if (batch_num+1) % log_interval == 0:\n",
    "             print ('{:%Y-%m-%d %H:%M:%S} Epoch [{}/{}], batch_num [{}/{}] Loss: {:.4f}'.format(\n",
    "                 datetime.now(), epoch+1, params['num_epochs'], batch_num+1, params['batches_per_epoch'], ave_loss_over_steps/log_interval))\n",
    " \n",
    "             list_of_losses.append(ave_loss_over_steps/log_interval)\n",
    "             writer.add_scalar(\"Loss/train\", ave_loss_per_sample, epoch)\n",
    "             ave_loss_over_steps = 0\n",
    " \n",
    " \n",
    "         if (batch_num+1) % visualize_interval == 0:\n",
    "             result = generate(model,max_length)\n",
    "             plt.figure(figsize=(20,1))\n",
    "             plt.plot(np.arange(len(result)), result) #just print one example from the batch\n",
    "             plt.show()\n",
    "             model.train() #put model back to training mode\n",
    " \n",
    " \n",
    "         if batch_num>=(batches_per_epoch-1):\n",
    "             break\n",
    " \n",
    "     print(f\"Finished epoch number {epoch} with a total of {debug_seqs} debug_seqs\")\n",
    "     \n",
    "     if (epoch + 1) % params['savemodel_interval'] == 0:\n",
    "         torch.save({\n",
    "                'epoch': epoch,\n",
    "                'model_state_dict': model.state_dict(),\n",
    "                'optimizer_state_dict': optimizer.state_dict()\n",
    "            }, checkpoint_path)\n",
    "         print(f\"Saved checkpoint at epoch {epoch+1}\")\n",
    " \n",
    " \n",
    " # generate\n",
    " #*************************************\n",
    " def generate(model,max_length,primer=None,paramvect=None, returnHiddenSequence=False):\n",
    "     \"\"\"Generate a signal using the provided model.\n",
    "     @param max_length of the synthesized signal\n",
    "     @param primer a torch.tensor of shape (batch=1, primer_signal=primer_length, num_inputs=1+num_cond_parameters)\n",
    "     @paramvect conditioning parameters  (a function of i, sample number)\n",
    "     \"\"\" \n",
    "     if returnHiddenSequence :\n",
    "         hs=[]\n",
    " \n",
    "     model.eval()\n",
    "     with torch.no_grad():\n",
    " \n",
    "         for p_inp, target in test_loader:\n",
    " \n",
    "             print(f\"generate() - p_inp_inp[:,:,0] - Min: {torch.min(p_inp[:,:,0])}, Max: {torch.max(p_inp[:,:,0])}, Average: {torch.mean(p_inp[:,:,0])}\")\n",
    " \n",
    "             if primer is not None:\n",
    "                 # must clone else primer is changed outside this function\n",
    "                 p_inp.data=primer.clone()\n",
    "             print(f\"p_inp = {p_inp}\")\n",
    "             seq = np.copy(p_inp[0,:,0])  #extract the original sample\n",
    " \n",
    "             seq_mu = inputcoding(seq)  #mu-law\n",
    " \n",
    "             p_inp[0,:,0] = torch.from_numpy(seq_mu).float() #now we have both the original and mu-lawed samples\n",
    "             break\n",
    "         generated = seq # before mu-law audio encoding\n",
    " \n",
    "         p_inp = p_inp.to(device)\n",
    "         #print(\"p_inp\",p_inp)\n",
    " \n",
    "         hidden = model.init_hidden()\n",
    "         if returnHiddenSequence :\n",
    "             hs.append(torch.squeeze(hidden).cpu().numpy())\n",
    " \n",
    "         print(f\"---AND the p_inp we will use to build hidden is {p_inp[0,0:10,:]}\")\n",
    "         for j in range(params['seqLen']-1):  #build up hidden state\n",
    "             _, hidden = model(p_inp[:,j,:],hidden)\n",
    "         inp = p_inp[:,-1,:]  #feed the last value as the initial value of the actual generation\n",
    " \n",
    "         #print(\"last inp from primer\",inp)\n",
    " \n",
    "         for i in range(max_length):\n",
    "             outputs, hidden = model(inp,hidden)\n",
    " \n",
    "             outputs = nn.functional.log_softmax(outputs,dim=1)\n",
    "             topv, topi = outputs.detach().topk(1)  #choose the strongest activation\n",
    "             #print(topv,topv.shape)\n",
    "             predicted_sample = index2float(topi)\n",
    " \n",
    "             generated = np.append(generated,predicted_sample)\n",
    " \n",
    "             inp[:,0] = torch.from_numpy(inputcoding([predicted_sample])).type(torch.cuda.FloatTensor)\n",
    "             #print(\"input\",inp)\n",
    "             #print(\"shape\",inp.shape)\n",
    "             if paramvect is not None:\n",
    "                 inp[:,1:] = torch.tensor(paramvect(i))\n",
    "                 #print(\"input2\",inp)\n",
    " \n",
    "             if returnHiddenSequence :\n",
    "                 hs.append(torch.squeeze(hidden).cpu().numpy())\n",
    " \n",
    "         if returnHiddenSequence :\n",
    "             return generated, hs\n",
    "         else :\n",
    "             return generated\n"
   ]
  },
  {
   "cell_type": "markdown",
   "metadata": {},
   "source": [
    "<a href=\"#dataparams\">Go To Data Params</a>"
   ]
  },
  {
   "cell_type": "code",
   "execution_count": 9,
   "metadata": {},
   "outputs": [
    {
     "name": "stdout",
     "output_type": "stream",
     "text": [
      "Resumed from checkpoint at epoch 10\n"
     ]
    }
   ],
   "source": [
    "\n",
    "rnn = model.gru_audio_model.RNN(model_config).to(device)\n",
    "    \n",
    "optimizer = torch.optim.Adam(rnn.parameters(), lr=params['lr'])\n",
    "criterion = nn.CrossEntropyLoss()\n",
    "\n",
    "start_epoch=0\n",
    "checkpoint_path = os.path.join(f\"{out_dir}/checkpoints\", \"last_checkpoint.pt\")\n",
    "if resume_checkpoint:\n",
    "    assert os.path.exists(checkpoint_path), f\"File {checkpoint_path} does not exist\"\n",
    "    checkpoint = torch.load(checkpoint_path)\n",
    "    rnn.load_state_dict(checkpoint['model_state_dict'])\n",
    "    optimizer.load_state_dict(checkpoint['optimizer_state_dict'])\n",
    "    start_epoch = checkpoint['epoch'] + 1\n",
    "    print(f\"Resumed from checkpoint at epoch {start_epoch}\")\n",
    "\n",
    "writer = SummaryWriter(log_dir=f\"{out_dir}/tensorboard\")"
   ]
  },
  {
   "cell_type": "code",
   "execution_count": 10,
   "metadata": {},
   "outputs": [
    {
     "name": "stdout",
     "output_type": "stream",
     "text": [
      "Trainable parameters: 69232\n"
     ]
    }
   ],
   "source": [
    "num_trainable_params = sum(p.numel() for p in rnn.parameters() if p.requires_grad)\n",
    "print(f\"Trainable parameters: {num_trainable_params}\")"
   ]
  },
  {
   "cell_type": "raw",
   "metadata": {
    "scrolled": false
   },
   "source": [
    "n_batches = 12\n",
    "print(\"Do it! {}\".format(mydate()))\n",
    "\n",
    "for bat, sample_batched in enumerate(train_loader):\n",
    "    print(\"bat num {} at time {}\".format(bat, mydate()))\n",
    "    if bat >= n_batches :\n",
    "        break;\n",
    "print(\"finished at {}\".format(mydate()))"
   ]
  },
  {
   "cell_type": "code",
   "execution_count": 11,
   "metadata": {
    "scrolled": true
   },
   "outputs": [
    {
     "name": "stdout",
     "output_type": "stream",
     "text": [
      "2025-08-05 16:33:03 Starting training...\n",
      "train() - inp[:,:,0] - Min: 0.09019608050584793, Max: 0.9529411792755127, Average: 0.4913994073867798\n",
      "Finished epoch number 10 with a total of 10 debug_seqs\n",
      "train() - inp[:,:,0] - Min: 0.0784313753247261, Max: 0.9607843160629272, Average: 0.4929734468460083\n",
      "Finished epoch number 11 with a total of 10 debug_seqs\n",
      "train() - inp[:,:,0] - Min: 0.07450980693101883, Max: 0.9803921580314636, Average: 0.4939571022987366\n",
      "Finished epoch number 12 with a total of 10 debug_seqs\n",
      "train() - inp[:,:,0] - Min: 0.08627451211214066, Max: 0.95686274766922, Average: 0.49180838465690613\n",
      "Finished epoch number 13 with a total of 10 debug_seqs\n",
      "train() - inp[:,:,0] - Min: 0.07450980693101883, Max: 0.9647058844566345, Average: 0.49307358264923096\n",
      "Finished epoch number 14 with a total of 10 debug_seqs\n",
      "train() - inp[:,:,0] - Min: 0.07450980693101883, Max: 0.9529411792755127, Average: 0.4923948049545288\n",
      "Finished epoch number 15 with a total of 10 debug_seqs\n",
      "train() - inp[:,:,0] - Min: 0.08235294371843338, Max: 0.9686274528503418, Average: 0.4941469132900238\n",
      "Finished epoch number 16 with a total of 10 debug_seqs\n",
      "train() - inp[:,:,0] - Min: 0.08235294371843338, Max: 0.9607843160629272, Average: 0.4913955628871918\n",
      "Finished epoch number 17 with a total of 10 debug_seqs\n",
      "train() - inp[:,:,0] - Min: 0.08627451211214066, Max: 0.9647058844566345, Average: 0.4943733513355255\n",
      "Finished epoch number 18 with a total of 10 debug_seqs\n",
      "train() - inp[:,:,0] - Min: 0.06666667014360428, Max: 0.9686274528503418, Average: 0.49400413036346436\n",
      "Finished epoch number 19 with a total of 10 debug_seqs\n",
      "Saved checkpoint at epoch 20\n",
      "Training time taken: 0:00:21\n",
      "Saved checkpoint at epoch 20\n"
     ]
    }
   ],
   "source": [
    "# Train!\n",
    "#*************************************\n",
    "list_of_losses = []\n",
    "\n",
    "print('{:%Y-%m-%d %H:%M:%S} Starting training...'.format(datetime.now()))\n",
    "start_time = time.monotonic()\n",
    "for epoch in range(start_epoch, start_epoch+params['num_epochs']):\n",
    "    train(rnn,epoch)\n",
    "writer.close()\n",
    "elapsed_time = time.monotonic() - start_time\n",
    "print('Training time taken:',time_taken(elapsed_time))\n",
    "\n",
    "\n",
    "torch.save({\n",
    "            'epoch': epoch,\n",
    "            'model_state_dict': rnn.state_dict(),\n",
    "            'optimizer_state_dict': optimizer.state_dict()\n",
    "        }, checkpoint_path)\n",
    "print(f\"Saved checkpoint at epoch {epoch+1}\")"
   ]
  },
  {
   "cell_type": "code",
   "execution_count": 12,
   "metadata": {},
   "outputs": [
    {
     "data": {
      "image/png": "[encoded data removed]",
      "text/plain": [
       "<Figure size 640x480 with 1 Axes>"
      ]
     },
     "metadata": {},
     "output_type": "display_data"
    }
   ],
   "source": [
    "# Plot the loss over time\n",
    "#*************************************\n",
    "plt.figure()\n",
    "plt.plot(list_of_losses)\n",
    "plt.show()  # This will actually display the plot"
   ]
  },
  {
   "cell_type": "code",
   "execution_count": 13,
   "metadata": {},
   "outputs": [
    {
     "data": {
      "text/plain": [
       "0.20784315"
      ]
     },
     "execution_count": 13,
     "metadata": {},
     "output_type": "execute_result"
    }
   ],
   "source": [
    "foo=[[0.20784315]]\n",
    "foo[0][0]"
   ]
  },
  {
   "cell_type": "code",
   "execution_count": 14,
   "metadata": {},
   "outputs": [
    {
     "data": {
      "text/plain": [
       "[]"
      ]
     },
     "execution_count": 14,
     "metadata": {},
     "output_type": "execute_result"
    }
   ],
   "source": [
    "list_of_losses"
   ]
  },
  {
   "cell_type": "code",
   "execution_count": null,
   "metadata": {},
   "outputs": [],
   "source": []
  }
 ],
 "metadata": {
  "kernelspec": {
   "display_name": "Python 3 (ipykernel)",
   "language": "python",
   "name": "python3"
  },
  "language_info": {
   "codemirror_mode": {
    "name": "ipython",
    "version": 3
   },
   "file_extension": ".py",
   "mimetype": "text/x-python",
   "name": "python",
   "nbconvert_exporter": "python",
   "pygments_lexer": "ipython3",
   "version": "3.12.9"
  }
 },
 "nbformat": 4,
 "nbformat_minor": 4
}
